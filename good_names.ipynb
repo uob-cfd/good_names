{
 "cells": [
  {
   "cell_type": "markdown",
   "metadata": {},
   "source": [
    "# On names\n",
    "\n",
    "This page has some exercises that relate most directly to the\n",
    "[names](../code-basics/Names) section.\n",
    "\n",
    "Below you will see some code for you to look at, and think about.  You may want\n",
    "to test things out in code.   You can make a new notebook code cell to test\n",
    "stuff by using the Insert menu, and choosing \"Insert Cell Above\" or \"Insert\n",
    "Cell Below\".\n",
    "\n",
    "Notice that this notebook, as you initially loaded it, doesn't have any code\n",
    "cells, it only has text."
   ]
  },
  {
   "cell_type": "markdown",
   "metadata": {},
   "source": [
    "## Good names?\n",
    "\n",
    "Here are some assignment statements. Are these valid names?  Why - or why not?\n",
    "When you have an answer, try the names in a Notebook cell, and see what you\n",
    "get."
   ]
  },
  {
   "cell_type": "markdown",
   "metadata": {},
   "source": [
    "```\n",
    "five = 5\n",
    "```\n",
    "\n",
    "```\n",
    "Five = 5\n",
    "```\n",
    "\n",
    "```\n",
    "five_Point_three = 5\n",
    "```\n",
    "\n",
    "```\n",
    "five3 = 5\n",
    "```\n",
    "\n",
    "```\n",
    "_five_ = 5\n",
    "```\n",
    "\n",
    "```\n",
    "five_3 = 5\n",
    "```\n",
    "\n",
    "```\n",
    "five.3 = 5\n",
    "```\n",
    "\n",
    "```\n",
    "3five = 5\n",
    "```\n",
    "\n",
    "```\n",
    "five-point-three = 5\n",
    "```"
   ]
  },
  {
   "cell_type": "markdown",
   "metadata": {},
   "source": [
    "## How does assignment work?\n",
    "\n",
    "Look at these blocks of lines below, and try and work out what each of these\n",
    "expressions will return.  Are they valid expressions?  Will they give an\n",
    "error?\n",
    "\n",
    "Don't enter the lines into the notebook until you have worked out your answer.\n",
    "When you do have an answer, try entering the expression as cells in the\n",
    "notebook.\n",
    "\n",
    "Two variables:\n",
    "\n",
    "```\n",
    "a = 5\n",
    "b = 3\n",
    "a + b * 4\n",
    "```\n",
    "\n",
    "Reassignment:\n",
    "\n",
    "```\n",
    "a = 5\n",
    "a = a + 3\n",
    "a\n",
    "```\n",
    "\n",
    "Reassignment again:\n",
    "\n",
    "```\n",
    "a = 5\n",
    "b = a + 3\n",
    "a = 3\n",
    "b\n",
    "```\n",
    "\n",
    "Reassignment again again:\n",
    "\n",
    "```\n",
    "first_variable = 5\n",
    "second_variable = first_variable + 3\n",
    "first_variable = 3\n",
    "second_variable\n",
    "```\n",
    "\n",
    "Another two variables:\n",
    "\n",
    "```\n",
    "a = 5\n",
    "a * 3 * c\n",
    "```\n",
    "\n",
    "What about this expression?\n",
    "\n",
    "```\n",
    "a = 5\n",
    "a 5 + 4 * 3\n",
    "```"
   ]
  },
  {
   "cell_type": "markdown",
   "metadata": {},
   "source": [
    "## Leaping ahead\n",
    "\n",
    "This one is more tricky, and uses stuff you have not yet seen.  Look at this and try and predict what you would see, after you run these two statements.  Then try running them in a Notebook or in Python.  What do you see?  Why?\n",
    "\n",
    "```\n",
    "my_variable == 5\n",
    "my_variable * 4\n",
    "```\n",
    "\n",
    "Hint: look carefully at the equals in the first statement.  You may want to do\n",
    "a web-search to see what is going on."
   ]
  }
 ],
 "metadata": {
  "anaconda-cloud": {},
  "jupytext": {
   "notebook_metadata_filter": "anaconda-cloud,language_info",
   "text_representation": {
    "extension": ".Rmd",
    "format_name": "rmarkdown",
    "format_version": "1.0",
    "jupytext_version": "0.8.1"
   }
  },
  "kernelspec": {
   "display_name": "Python 3",
   "language": "python",
   "name": "python3"
  },
  "language_info": {
   "codemirror_mode": {
    "name": "ipython",
    "version": 3
   },
   "file_extension": ".py",
   "mimetype": "text/x-python",
   "name": "python",
   "nbconvert_exporter": "python",
   "pygments_lexer": "ipython3",
   "version": "3.6.5"
  }
 },
 "nbformat": 4,
 "nbformat_minor": 4
}
